{
 "cells": [
  {
   "cell_type": "markdown",
   "metadata": {
    "colab_type": "text",
    "id": "Q8fdVFq5k3_O"
   },
   "source": [
    "# Neural Style Transfer"
   ]
  },
  {
   "cell_type": "markdown",
   "metadata": {
    "colab_type": "text",
    "id": "_zUCMLSnk3_Q"
   },
   "source": [
    "## Importing dependencies"
   ]
  },
  {
   "cell_type": "code",
   "execution_count": 1,
   "metadata": {
    "ExecuteTime": {
     "end_time": "2019-01-15T03:21:20.671790Z",
     "start_time": "2019-01-15T03:21:19.611436Z"
    },
    "colab": {},
    "colab_type": "code",
    "id": "HdAi9ebWk3_Q"
   },
   "outputs": [
    {
     "name": "stderr",
     "output_type": "stream",
     "text": [
      "/home/praneet/envs/deeplearning/lib/python3.5/site-packages/h5py/__init__.py:36: FutureWarning: Conversion of the second argument of issubdtype from `float` to `np.floating` is deprecated. In future, it will be treated as `np.float64 == np.dtype(float).type`.\n",
      "  from ._conv import register_converters as _register_converters\n",
      "Using TensorFlow backend.\n"
     ]
    }
   ],
   "source": [
    "import numpy as np\n",
    "from keras.applications import vgg16\n",
    "from keras import backend as K\n",
    "from keras.preprocessing.image import load_img, img_to_array\n",
    "from scipy.optimize import fmin_l_bfgs_b\n",
    "from scipy.misc import imsave, imresize\n",
    "from IPython.display import Image"
   ]
  },
  {
   "cell_type": "code",
   "execution_count": 2,
   "metadata": {
    "ExecuteTime": {
     "end_time": "2019-01-15T03:21:21.921550Z",
     "start_time": "2019-01-15T03:21:21.918675Z"
    },
    "colab": {},
    "colab_type": "code",
    "id": "v1ut21A3k3_X"
   },
   "outputs": [],
   "source": [
    "BASE_IMAGE = 'base.jpg'\n",
    "STYLE_IMAGE = 'style.jpg'\n",
    "height = 224\n",
    "width = 224"
   ]
  },
  {
   "cell_type": "markdown",
   "metadata": {
    "colab_type": "text",
    "id": "NcpvJdF4k3_a"
   },
   "source": [
    "## Base Image we will be working with"
   ]
  },
  {
   "cell_type": "code",
   "execution_count": 3,
   "metadata": {
    "ExecuteTime": {
     "end_time": "2019-01-15T03:21:22.880225Z",
     "start_time": "2019-01-15T03:21:22.876247Z"
    },
    "colab": {},
    "colab_type": "code",
    "id": "5-FFA5p8k3_b"
   },
   "outputs": [],
   "source": [
    "def preprocess_image(image_path):\n",
    "    img = load_img(image_path, target_size=(height, width))\n",
    "    img = img_to_array(img)\n",
    "    img[:, :, 0] -= 103.939\n",
    "    img[:, :, 1] -= 116.779\n",
    "    img[:, :, 2] -= 123.68\n",
    "    img = np.clip(img, 0, 255).astype('uint8')\n",
    "    img = np.expand_dims(img, axis=0)\n",
    "    img = vgg16.preprocess_input(img)\n",
    "    return img"
   ]
  },
  {
   "cell_type": "code",
   "execution_count": 4,
   "metadata": {
    "ExecuteTime": {
     "end_time": "2019-01-15T03:21:25.937809Z",
     "start_time": "2019-01-15T03:21:23.548476Z"
    },
    "colab": {},
    "colab_type": "code",
    "id": "7LnxD_Pok3_d"
   },
   "outputs": [],
   "source": [
    "def deprocess_image(x):\n",
    "    if K.image_data_format() == 'channels_first':\n",
    "        x = x.reshape((3, height, width))\n",
    "        x = x.transpose((1, 2, 0))\n",
    "    else:\n",
    "        x = x.reshape((height, width, 3))\n",
    "    # Remove zero-center by mean pixel\n",
    "    x[:, :, 0] += 103.939\n",
    "    x[:, :, 1] += 116.779\n",
    "    x[:, :, 2] += 123.68\n",
    "    # 'BGR'->'RGB'\n",
    "    x = x[:, :, ::-1]\n",
    "    x = np.clip(x, 0, 255).astype('uint8')\n",
    "    return x"
   ]
  },
  {
   "cell_type": "code",
   "execution_count": null,
   "metadata": {
    "ExecuteTime": {
     "end_time": "2019-01-15T03:21:29.449291Z",
     "start_time": "2019-01-15T03:21:26.005971Z"
    },
    "colab": {
     "base_uri": "https://localhost:8080/",
     "height": 3493
    },
    "colab_type": "code",
    "id": "WM4PyYllk3_g",
    "outputId": "16e1b412-ca07-4e6d-f58c-810438280bdc",
    "scrolled": true
   },
   "outputs": [],
   "source": [
    "Image(BASE_IMAGE)"
   ]
  },
  {
   "cell_type": "markdown",
   "metadata": {
    "colab_type": "text",
    "id": "PT0bZnvOk3_j"
   },
   "source": [
    "## Style Image we will be working with"
   ]
  },
  {
   "cell_type": "code",
   "execution_count": null,
   "metadata": {
    "ExecuteTime": {
     "end_time": "2019-01-15T02:15:52.670600Z",
     "start_time": "2019-01-15T02:15:52.569721Z"
    },
    "colab": {
     "base_uri": "https://localhost:8080/",
     "height": 1127
    },
    "colab_type": "code",
    "id": "bJ8gbWFYk3_l",
    "outputId": "c06b8fcc-c72d-4a65-ae38-f3c112a76030",
    "scrolled": false
   },
   "outputs": [],
   "source": [
    "Image(STYLE_IMAGE)"
   ]
  },
  {
   "cell_type": "markdown",
   "metadata": {
    "colab_type": "text",
    "id": "rCSeualLk3_o"
   },
   "source": [
    "## Tensor representations of images"
   ]
  },
  {
   "cell_type": "code",
   "execution_count": 6,
   "metadata": {
    "ExecuteTime": {
     "end_time": "2019-01-15T03:21:37.948997Z",
     "start_time": "2019-01-15T03:21:36.552384Z"
    },
    "colab": {},
    "colab_type": "code",
    "id": "LffFmg3Hk3_p"
   },
   "outputs": [],
   "source": [
    "base_image = K.variable(preprocess_image(BASE_IMAGE))\n",
    "style_image = K.variable(preprocess_image(STYLE_IMAGE))\n",
    "generated_image = K.placeholder(shape=(1, height, width, 3))"
   ]
  },
  {
   "cell_type": "markdown",
   "metadata": {
    "colab_type": "text",
    "id": "6kCc9J8pk3_r"
   },
   "source": [
    "## Combine 3 images into a single keras tensor"
   ]
  },
  {
   "cell_type": "code",
   "execution_count": 7,
   "metadata": {
    "ExecuteTime": {
     "end_time": "2019-01-15T03:21:38.012528Z",
     "start_time": "2019-01-15T03:21:38.007667Z"
    },
    "colab": {},
    "colab_type": "code",
    "id": "VOrxrB8fk3_t"
   },
   "outputs": [],
   "source": [
    "input_tensor = K.concatenate([base_image, style_image, generated_image], axis=0)"
   ]
  },
  {
   "cell_type": "markdown",
   "metadata": {
    "colab_type": "text",
    "id": "K9_qgysok3_x"
   },
   "source": [
    "# Build the VGG19 model with 3 images as input"
   ]
  },
  {
   "cell_type": "code",
   "execution_count": 8,
   "metadata": {
    "ExecuteTime": {
     "end_time": "2019-01-15T03:21:38.678318Z",
     "start_time": "2019-01-15T03:21:38.084470Z"
    },
    "colab": {
     "base_uri": "https://localhost:8080/",
     "height": 35
    },
    "colab_type": "code",
    "id": "YGShGimpk3_x",
    "outputId": "ba9ee053-5d45-47a4-f99e-bebdf9324805"
   },
   "outputs": [
    {
     "name": "stdout",
     "output_type": "stream",
     "text": [
      "Loaded model successfully\n"
     ]
    }
   ],
   "source": [
    "model = vgg16.VGG16(input_tensor = input_tensor, weights = 'imagenet', include_top = False)\n",
    "print(\"Loaded model successfully\")"
   ]
  },
  {
   "cell_type": "code",
   "execution_count": 9,
   "metadata": {
    "ExecuteTime": {
     "end_time": "2019-01-15T03:21:38.737145Z",
     "start_time": "2019-01-15T03:21:38.734621Z"
    },
    "colab": {},
    "colab_type": "code",
    "id": "0I5k0Td9k3_1"
   },
   "outputs": [],
   "source": [
    "outputs_dict = dict([(layer.name, layer.output) for layer in model.layers])"
   ]
  },
  {
   "cell_type": "code",
   "execution_count": 10,
   "metadata": {
    "ExecuteTime": {
     "end_time": "2019-01-15T03:21:38.862655Z",
     "start_time": "2019-01-15T03:21:38.801682Z"
    },
    "colab": {
     "base_uri": "https://localhost:8080/",
     "height": 935
    },
    "colab_type": "code",
    "id": "GqO-KJ9jk3_3",
    "outputId": "f0e5be38-9c46-4b88-87ee-38d4fa99c93a"
   },
   "outputs": [
    {
     "name": "stdout",
     "output_type": "stream",
     "text": [
      "_________________________________________________________________\n",
      "Layer (type)                 Output Shape              Param #   \n",
      "=================================================================\n",
      "input_1 (InputLayer)         (None, None, None, 3)     0         \n",
      "_________________________________________________________________\n",
      "block1_conv1 (Conv2D)        (None, None, None, 64)    1792      \n",
      "_________________________________________________________________\n",
      "block1_conv2 (Conv2D)        (None, None, None, 64)    36928     \n",
      "_________________________________________________________________\n",
      "block1_pool (MaxPooling2D)   (None, None, None, 64)    0         \n",
      "_________________________________________________________________\n",
      "block2_conv1 (Conv2D)        (None, None, None, 128)   73856     \n",
      "_________________________________________________________________\n",
      "block2_conv2 (Conv2D)        (None, None, None, 128)   147584    \n",
      "_________________________________________________________________\n",
      "block2_pool (MaxPooling2D)   (None, None, None, 128)   0         \n",
      "_________________________________________________________________\n",
      "block3_conv1 (Conv2D)        (None, None, None, 256)   295168    \n",
      "_________________________________________________________________\n",
      "block3_conv2 (Conv2D)        (None, None, None, 256)   590080    \n",
      "_________________________________________________________________\n",
      "block3_conv3 (Conv2D)        (None, None, None, 256)   590080    \n",
      "_________________________________________________________________\n",
      "block3_pool (MaxPooling2D)   (None, None, None, 256)   0         \n",
      "_________________________________________________________________\n",
      "block4_conv1 (Conv2D)        (None, None, None, 512)   1180160   \n",
      "_________________________________________________________________\n",
      "block4_conv2 (Conv2D)        (None, None, None, 512)   2359808   \n",
      "_________________________________________________________________\n",
      "block4_conv3 (Conv2D)        (None, None, None, 512)   2359808   \n",
      "_________________________________________________________________\n",
      "block4_pool (MaxPooling2D)   (None, None, None, 512)   0         \n",
      "_________________________________________________________________\n",
      "block5_conv1 (Conv2D)        (None, None, None, 512)   2359808   \n",
      "_________________________________________________________________\n",
      "block5_conv2 (Conv2D)        (None, None, None, 512)   2359808   \n",
      "_________________________________________________________________\n",
      "block5_conv3 (Conv2D)        (None, None, None, 512)   2359808   \n",
      "_________________________________________________________________\n",
      "block5_pool (MaxPooling2D)   (None, None, None, 512)   0         \n",
      "=================================================================\n",
      "Total params: 14,714,688\n",
      "Trainable params: 14,714,688\n",
      "Non-trainable params: 0\n",
      "_________________________________________________________________\n"
     ]
    }
   ],
   "source": [
    "model.summary()"
   ]
  },
  {
   "cell_type": "markdown",
   "metadata": {
    "colab_type": "text",
    "id": "hlZ8_yzdk3_7"
   },
   "source": [
    "## Content Loss"
   ]
  },
  {
   "cell_type": "code",
   "execution_count": 11,
   "metadata": {
    "ExecuteTime": {
     "end_time": "2019-01-15T03:21:39.694606Z",
     "start_time": "2019-01-15T03:21:39.692137Z"
    },
    "colab": {},
    "colab_type": "code",
    "id": "Uj4fNAcsk3_8"
   },
   "outputs": [],
   "source": [
    "def content_loss(base, gen):\n",
    "    return K.sum(K.square(gen - base))"
   ]
  },
  {
   "cell_type": "code",
   "execution_count": 12,
   "metadata": {
    "ExecuteTime": {
     "end_time": "2019-01-15T03:21:40.112222Z",
     "start_time": "2019-01-15T03:21:40.104681Z"
    },
    "colab": {},
    "colab_type": "code",
    "id": "w5-CQpE0k3_-"
   },
   "outputs": [],
   "source": [
    "CONTENT_WEIGHT = 0.05\n",
    "STYLE_WEIGHT = 0.75\n",
    "TOTAL_VARIATION_WEIGHT = 1.0"
   ]
  },
  {
   "cell_type": "code",
   "execution_count": 13,
   "metadata": {
    "ExecuteTime": {
     "end_time": "2019-01-15T03:21:40.535522Z",
     "start_time": "2019-01-15T03:21:40.476841Z"
    },
    "colab": {},
    "colab_type": "code",
    "id": "amlk-O3Fk4AB"
   },
   "outputs": [],
   "source": [
    "loss = 0.\n",
    "layer_features = outputs_dict['block5_conv2']\n",
    "base_image_features = layer_features[0, :, :, :]\n",
    "generated_image_features = layer_features[2, :, :, :]\n",
    "loss += CONTENT_WEIGHT * content_loss(base_image_features, generated_image_features)"
   ]
  },
  {
   "cell_type": "markdown",
   "metadata": {
    "colab_type": "text",
    "id": "EwInR3nRk4AI"
   },
   "source": [
    "## Gram Matrix"
   ]
  },
  {
   "cell_type": "code",
   "execution_count": 14,
   "metadata": {
    "ExecuteTime": {
     "end_time": "2019-01-15T03:21:41.197794Z",
     "start_time": "2019-01-15T03:21:41.184890Z"
    },
    "colab": {},
    "colab_type": "code",
    "id": "o_X6pRcDk4AK"
   },
   "outputs": [],
   "source": [
    "def gram_matrix(x):\n",
    "    assert K.ndim(x) == 3\n",
    "    features = K.batch_flatten(K.permute_dimensions(x, (2, 0, 1)))\n",
    "    gram = K.dot(features, K.transpose(features))\n",
    "    return gram"
   ]
  },
  {
   "cell_type": "markdown",
   "metadata": {
    "colab_type": "text",
    "id": "Kj3AhlzXk4AP"
   },
   "source": [
    "## Style Loss"
   ]
  },
  {
   "cell_type": "code",
   "execution_count": 15,
   "metadata": {
    "ExecuteTime": {
     "end_time": "2019-01-15T03:21:41.977122Z",
     "start_time": "2019-01-15T03:21:41.972705Z"
    },
    "colab": {},
    "colab_type": "code",
    "id": "o66H6MvTk4AQ"
   },
   "outputs": [],
   "source": [
    "def style_loss(style, gen):\n",
    "    assert K.ndim(style) == 3\n",
    "    assert K.ndim(gen) == 3\n",
    "    S = gram_matrix(style)\n",
    "    G = gram_matrix(gen)\n",
    "    channels = 3\n",
    "    size = height * width\n",
    "    return K.sum(K.square(S - G)) / (4. * (channels ** 2) * (size ** 2))"
   ]
  },
  {
   "cell_type": "code",
   "execution_count": 16,
   "metadata": {
    "ExecuteTime": {
     "end_time": "2019-01-15T03:21:42.595323Z",
     "start_time": "2019-01-15T03:21:42.340006Z"
    },
    "colab": {},
    "colab_type": "code",
    "id": "k8Plj6p0k4AS"
   },
   "outputs": [],
   "source": [
    "feature_layer_names = ['block1_conv2', 'block2_conv2', 'block3_conv2', 'block4_conv2', 'block5_conv2']\n",
    "for name in feature_layer_names:\n",
    "    layer_features = outputs_dict[name]\n",
    "    style_features = layer_features[1, :, :, :]\n",
    "    gen_img_features = layer_features[2, :, :, :]\n",
    "    s1 = style_loss(style_features, gen_img_features)\n",
    "    loss += (STYLE_WEIGHT / len(feature_layer_names)) * s1"
   ]
  },
  {
   "cell_type": "markdown",
   "metadata": {
    "colab_type": "text",
    "id": "diXxEpCTk4AV"
   },
   "source": [
    "## Total variation loss"
   ]
  },
  {
   "cell_type": "code",
   "execution_count": 17,
   "metadata": {
    "ExecuteTime": {
     "end_time": "2019-01-15T03:21:43.239458Z",
     "start_time": "2019-01-15T03:21:43.227897Z"
    },
    "colab": {},
    "colab_type": "code",
    "id": "YfPJbi84k4AV"
   },
   "outputs": [],
   "source": [
    "def total_variation_loss(x):\n",
    "    assert K.ndim(x) == 4\n",
    "    a = K.square(x[:, :height - 1, :width - 1, :] - x[:, 1:, :width - 1, :])\n",
    "    b = K.square(x[:, :height - 1, :width - 1, :] - x[:, :height - 1, 1:, :])\n",
    "    return K.sum(K.pow(a + b, 1.25))"
   ]
  },
  {
   "cell_type": "code",
   "execution_count": 18,
   "metadata": {
    "ExecuteTime": {
     "end_time": "2019-01-15T03:21:43.793310Z",
     "start_time": "2019-01-15T03:21:43.719287Z"
    },
    "colab": {},
    "colab_type": "code",
    "id": "fiSiuhxuk4AY"
   },
   "outputs": [],
   "source": [
    "loss += TOTAL_VARIATION_WEIGHT * total_variation_loss(generated_image)"
   ]
  },
  {
   "cell_type": "markdown",
   "metadata": {
    "colab_type": "text",
    "id": "zF27we8fk4Aa"
   },
   "source": [
    "## Evaluating the gradients"
   ]
  },
  {
   "cell_type": "code",
   "execution_count": 19,
   "metadata": {
    "ExecuteTime": {
     "end_time": "2019-01-15T03:21:44.960473Z",
     "start_time": "2019-01-15T03:21:44.557113Z"
    },
    "colab": {},
    "colab_type": "code",
    "id": "wflSRSv3k4Ac"
   },
   "outputs": [],
   "source": [
    "grads = K.gradients(loss, generated_image)"
   ]
  },
  {
   "cell_type": "code",
   "execution_count": 20,
   "metadata": {
    "ExecuteTime": {
     "end_time": "2019-01-15T03:21:45.029872Z",
     "start_time": "2019-01-15T03:21:45.027333Z"
    },
    "colab": {},
    "colab_type": "code",
    "id": "zHj1r7ywk4Ae"
   },
   "outputs": [],
   "source": [
    "outputs = [loss]\n",
    "if isinstance(grads, (list, tuple)):\n",
    "    outputs += grads\n",
    "else:\n",
    "    outputs.append(grads)"
   ]
  },
  {
   "cell_type": "code",
   "execution_count": 21,
   "metadata": {
    "ExecuteTime": {
     "end_time": "2019-01-15T03:21:45.329739Z",
     "start_time": "2019-01-15T03:21:45.319346Z"
    },
    "colab": {},
    "colab_type": "code",
    "id": "TOsqQaT3k4Ag"
   },
   "outputs": [],
   "source": [
    "f_output = K.function([generated_image], outputs)"
   ]
  },
  {
   "cell_type": "markdown",
   "metadata": {
    "colab_type": "text",
    "id": "JC47rvrRk4Aj"
   },
   "source": [
    "## Evaluating loss and gradients"
   ]
  },
  {
   "cell_type": "code",
   "execution_count": 22,
   "metadata": {
    "ExecuteTime": {
     "end_time": "2019-01-15T03:21:45.918843Z",
     "start_time": "2019-01-15T03:21:45.903026Z"
    },
    "colab": {},
    "colab_type": "code",
    "id": "OrLudMXrk4Al"
   },
   "outputs": [],
   "source": [
    "def eval_loss_and_grads(x):\n",
    "    x = x.reshape((1, height, width, 3))\n",
    "    outs = f_output([x])\n",
    "    loss_value = outs[0]\n",
    "    if len(outs[1:]) == 1:\n",
    "        grad_values = outs[1].flatten().astype('float64')\n",
    "    else:\n",
    "        grad_values = np.array(outs[1:]).flatten().astype('float64')\n",
    "    return loss_value, grad_values"
   ]
  },
  {
   "cell_type": "markdown",
   "metadata": {
    "colab_type": "text",
    "id": "yW1gy_37k4Ao"
   },
   "source": [
    "## Evaluator class"
   ]
  },
  {
   "cell_type": "code",
   "execution_count": 23,
   "metadata": {
    "ExecuteTime": {
     "end_time": "2019-01-15T03:21:46.802142Z",
     "start_time": "2019-01-15T03:21:46.798201Z"
    },
    "colab": {},
    "colab_type": "code",
    "id": "mI6ujk1ck4Ap"
   },
   "outputs": [],
   "source": [
    "class Evaluator(object):\n",
    "    def __init__(self):\n",
    "        self.loss_value = None\n",
    "        self.grads_value = None\n",
    "        self.i = 0\n",
    "\n",
    "    def loss(self, x):\n",
    "        assert self.loss_value is None\n",
    "        loss_value, grad_value = eval_loss_and_grads(x)\n",
    "        self.loss_value = loss_value\n",
    "        self.grads_value = grad_value\n",
    "#         print(\"Iteration \"+str(self.i)+\" : Loss - \"+str(self.loss_value))\n",
    "#         self.i += 1\n",
    "        return self.loss_value\n",
    "\n",
    "    def grads(self, x):\n",
    "        assert self.loss_value is not None\n",
    "        grads_values = np.copy(self.grads_value)\n",
    "        self.loss_value = None\n",
    "        self.grads_value = None\n",
    "        return grads_values"
   ]
  },
  {
   "cell_type": "markdown",
   "metadata": {
    "colab_type": "text",
    "id": "HUmUVrFik4Ar"
   },
   "source": [
    "## Optimization"
   ]
  },
  {
   "cell_type": "code",
   "execution_count": 24,
   "metadata": {
    "ExecuteTime": {
     "end_time": "2019-01-15T03:21:47.808973Z",
     "start_time": "2019-01-15T03:21:47.806555Z"
    },
    "colab": {},
    "colab_type": "code",
    "id": "G9cbzzX2k4As"
   },
   "outputs": [],
   "source": [
    "evaluator = Evaluator()"
   ]
  },
  {
   "cell_type": "code",
   "execution_count": 25,
   "metadata": {
    "ExecuteTime": {
     "end_time": "2019-01-15T03:21:49.226750Z",
     "start_time": "2019-01-15T03:21:49.223835Z"
    }
   },
   "outputs": [],
   "source": [
    "import time"
   ]
  },
  {
   "cell_type": "code",
   "execution_count": 29,
   "metadata": {
    "ExecuteTime": {
     "end_time": "2019-01-15T03:45:45.244127Z",
     "start_time": "2019-01-15T03:33:34.141317Z"
    }
   },
   "outputs": [
    {
     "name": "stdout",
     "output_type": "stream",
     "text": [
      "Start of iteration 0\n"
     ]
    },
    {
     "name": "stderr",
     "output_type": "stream",
     "text": [
      "/home/praneet/envs/deeplearning/lib/python3.5/site-packages/ipykernel_launcher.py:9: DeprecationWarning: `imsave` is deprecated!\n",
      "`imsave` is deprecated in SciPy 1.0.0, and will be removed in 1.2.0.\n",
      "Use ``imageio.imwrite`` instead.\n",
      "  if __name__ == '__main__':\n"
     ]
    },
    {
     "name": "stdout",
     "output_type": "stream",
     "text": [
      "Current loss value: 11960983000.0\n",
      "Iteration 0 completed in 69s\n",
      "Start of iteration 1\n",
      "Current loss value: 21237990000.0\n",
      "Iteration 1 completed in 72s\n",
      "Start of iteration 2\n",
      "Current loss value: 15355518000.0\n",
      "Iteration 2 completed in 73s\n",
      "Start of iteration 3\n",
      "Current loss value: 18001736000.0\n",
      "Iteration 3 completed in 74s\n",
      "Start of iteration 4\n",
      "Current loss value: 12564883000.0\n",
      "Iteration 4 completed in 73s\n",
      "Start of iteration 5\n",
      "Current loss value: 12733357000.0\n",
      "Iteration 5 completed in 73s\n",
      "Start of iteration 6\n",
      "Current loss value: 10753568000.0\n",
      "Iteration 6 completed in 73s\n",
      "Start of iteration 7\n",
      "Current loss value: 12702071000.0\n",
      "Iteration 7 completed in 74s\n",
      "Start of iteration 8\n",
      "Current loss value: 11748471000.0\n",
      "Iteration 8 completed in 72s\n",
      "Start of iteration 9\n",
      "Current loss value: 10629309000.0\n",
      "Iteration 9 completed in 72s\n"
     ]
    }
   ],
   "source": [
    "iterations = 10\n",
    "x = np.random.uniform(0, 255, (1, 224, 224, 3)) - 128.\n",
    "for i in range(iterations):\n",
    "    print('Start of iteration', i)\n",
    "    start_time = time.time()\n",
    "    x, min_val, info = fmin_l_bfgs_b(evaluator.loss, x.flatten(),\n",
    "                                     fprime=evaluator.grads, maxfun=20)\n",
    "    img = deprocess_image(x)\n",
    "    imsave('output' + str(i) + '.jpg', img)\n",
    "    print('Current loss value:', min_val)\n",
    "    end_time = time.time()\n",
    "    print('Iteration %d completed in %ds' % (i, end_time - start_time))"
   ]
  },
  {
   "cell_type": "code",
   "execution_count": null,
   "metadata": {},
   "outputs": [],
   "source": []
  },
  {
   "cell_type": "code",
   "execution_count": null,
   "metadata": {
    "ExecuteTime": {
     "end_time": "2019-01-15T03:07:23.928992Z",
     "start_time": "2019-01-15T03:03:47.809592Z"
    },
    "colab": {
     "base_uri": "https://localhost:8080/",
     "height": 36485
    },
    "colab_type": "code",
    "id": "f9BWObdEk4Au",
    "outputId": "2d77e6b0-05c7-485b-e15e-adfdda18b329"
   },
   "outputs": [],
   "source": [
    "# x = preprocess_image(BASE_IMAGE)\n",
    "\n",
    "# x, min_val, info = fmin_l_bfgs_b(evaluator.loss, x.flatten(), fprime=evaluator.grads, maxiter=50)\n",
    "# print('   loss: {}'.format(min_val))\n",
    "\n",
    "# img = deprocess_image(x)\n",
    "\n",
    "# imsave('outputnew.jpg', img)"
   ]
  },
  {
   "cell_type": "code",
   "execution_count": 39,
   "metadata": {
    "ExecuteTime": {
     "end_time": "2019-01-15T03:07:37.933802Z",
     "start_time": "2019-01-15T03:07:37.928930Z"
    },
    "colab": {
     "base_uri": "https://localhost:8080/",
     "height": 417
    },
    "colab_type": "code",
    "id": "1xPqHQPZmDdx",
    "outputId": "22c05b82-ce53-494b-a735-3f3f003d1b22"
   },
   "outputs": [
    {
     "data": {
      "image/jpeg": "[encoded data removed]",
      "text/plain": [
       "<IPython.core.display.Image object>"
      ]
     },
     "execution_count": 39,
     "metadata": {},
     "output_type": "execute_result"
    }
   ],
   "source": [
    "Image('outputnew.jpg')"
   ]
  },
  {
   "cell_type": "code",
   "execution_count": null,
   "metadata": {},
   "outputs": [],
   "source": []
  }
 ],
 "metadata": {
  "accelerator": "GPU",
  "colab": {
   "name": "Neural Style Transfer.ipynb",
   "provenance": [],
   "version": "0.3.2"
  },
  "kernelspec": {
   "display_name": "Python 3",
   "language": "python",
   "name": "python3"
  },
  "language_info": {
   "codemirror_mode": {
    "name": "ipython",
    "version": 3
   },
   "file_extension": ".py",
   "mimetype": "text/x-python",
   "name": "python",
   "nbconvert_exporter": "python",
   "pygments_lexer": "ipython3",
   "version": "3.5.2"
  },
  "varInspector": {
   "cols": {
    "lenName": 16,
    "lenType": 16,
    "lenVar": 40
   },
   "kernels_config": {
    "python": {
     "delete_cmd_postfix": "",
     "delete_cmd_prefix": "del ",
     "library": "var_list.py",
     "varRefreshCmd": "print(var_dic_list())"
    },
    "r": {
     "delete_cmd_postfix": ") ",
     "delete_cmd_prefix": "rm(",
     "library": "var_list.r",
     "varRefreshCmd": "cat(var_dic_list()) "
    }
   },
   "types_to_exclude": [
    "module",
    "function",
    "builtin_function_or_method",
    "instance",
    "_Feature"
   ],
   "window_display": false
  }
 },
 "nbformat": 4,
 "nbformat_minor": 1
}
